{
 "cells": [
  {
   "cell_type": "code",
   "execution_count": 1,
   "id": "88db44df",
   "metadata": {},
   "outputs": [
    {
     "name": "stdout",
     "output_type": "stream",
     "text": [
      "Japan\n",
      "Japan \n",
      "German \n",
      "Uzbekistan \n",
      "СТОП\n",
      "Japan: [0]\n",
      "Japan : [1]\n",
      "German : [2]\n",
      "Uzbekistan : [3]\n"
     ]
    }
   ],
   "source": [
    "# создаём пустой словарь\n",
    "countries = dict()\n",
    "# создаём счётчик номеров строк\n",
    "str_number = 0\n",
    "# продолжаем цикл, пока не введена строка «СТОП»\n",
    "while (country := input()) != \"СТОП\":\n",
    "    countries[country] = countries.get(country,[]) + [str_number]   \n",
    "# увеличиваем счётчик\n",
    "    str_number += 1\n",
    "    # вводим следующую строку\n",
    "    # выводим название страны и полученные списки с новой строки\n",
    "for country in countries:\n",
    "    print(f\"{country}: {countries[country]}\")"
   ]
  },
  {
   "cell_type": "code",
   "execution_count": null,
   "id": "6fa0481c",
   "metadata": {},
   "outputs": [],
   "source": []
  }
 ],
 "metadata": {
  "kernelspec": {
   "display_name": "Python 3 (ipykernel)",
   "language": "python",
   "name": "python3"
  },
  "language_info": {
   "codemirror_mode": {
    "name": "ipython",
    "version": 3
   },
   "file_extension": ".py",
   "mimetype": "text/x-python",
   "name": "python",
   "nbconvert_exporter": "python",
   "pygments_lexer": "ipython3",
   "version": "3.11.5"
  }
 },
 "nbformat": 4,
 "nbformat_minor": 5
}
