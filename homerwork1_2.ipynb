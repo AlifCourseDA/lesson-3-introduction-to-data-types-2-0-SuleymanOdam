{
 "cells": [
  {
   "cell_type": "code",
   "execution_count": 7,
   "id": "0d939b7f",
   "metadata": {},
   "outputs": [
    {
     "name": "stdout",
     "output_type": "stream",
     "text": [
      "Whats your name:Alif \n",
      "Hello,Alif \n"
     ]
    }
   ],
   "source": [
    "name = str(input(\"Whats your name:\"))\n",
    "print(f\"Hello,{name}\")"
   ]
  },
  {
   "cell_type": "code",
   "execution_count": 6,
   "id": "8534270a",
   "metadata": {},
   "outputs": [
    {
     "name": "stdout",
     "output_type": "stream",
     "text": [
      "Enter the any number:10\n",
      "Write any pharse:hey\n",
      "hey\n",
      "hey\n",
      "hey\n",
      "hey\n",
      "hey\n",
      "hey\n",
      "hey\n",
      "hey\n",
      "hey\n",
      "hey\n"
     ]
    }
   ],
   "source": [
    "n = int(input(\"Enter the any number:\"))\n",
    "pharse = str(input(\"Write any pharse:\"))\n",
    "while n != 0:\n",
    "    print(pharse)\n",
    "    n -= 1"
   ]
  },
  {
   "cell_type": "code",
   "execution_count": 5,
   "id": "9df4c297",
   "metadata": {},
   "outputs": [
    {
     "name": "stdout",
     "output_type": "stream",
     "text": [
      "Enter the product name:cherry \n",
      "Enter the product price:3\n",
      "Enter the weight your product:2\n",
      "Enter the your budget:10\n",
      "Your receipt-cherry -3-kg-2-soums\n",
      "Overall:6soums\n",
      "Paid:10 soums\n",
      "Your change:4 soums\n"
     ]
    }
   ],
   "source": [
    "product_name = str(input(\"Enter the product name:\"))\n",
    "product_price = int(input(\"Enter the product price:\"))\n",
    "weight = int(input(\"Enter the weight your product:\"))\n",
    "consumer_budget = int(input(\"Enter the your budget:\"))\n",
    "print(\"Your receipt\",product_name,product_price,\"kg\",weight,'soums',sep=\"-\")\n",
    "print(f\"Overall:{product_price*weight}soums\",f\"Paid:{consumer_budget} soums\",f\"Your change:{consumer_budget - product_price*weight} soums\",sep=\"\\n\")\n"
   ]
  },
  {
   "cell_type": "code",
   "execution_count": 4,
   "id": "d0a0a022",
   "metadata": {},
   "outputs": [
    {
     "name": "stdout",
     "output_type": "stream",
     "text": [
      "Enter the time for childre1:10\n",
      "Enter the time for children_2:10\n",
      "Number piece of apples: 50.0\n"
     ]
    }
   ],
   "source": [
    "time_1 , time_2 = int(input(\"Enter the time for childre1:\")),int(input(\"Enter the time for children_2:\"))\n",
    "print(f\"Number piece of apples: {time_1*time_2/2}\")"
   ]
  },
  {
   "cell_type": "code",
   "execution_count": 3,
   "id": "dae91cc8",
   "metadata": {},
   "outputs": [
    {
     "name": "stdout",
     "output_type": "stream",
     "text": [
      "Enter the any number:150\n",
      "2 : 30\n"
     ]
    }
   ],
   "source": [
    "number = int(input(\"Enter the any number:\"))\n",
    "number_1 = divmod(number,60)\n",
    "print(number_1[0],\":\",number_1[1])"
   ]
  },
  {
   "cell_type": "code",
   "execution_count": 1,
   "id": "ca7534ec",
   "metadata": {},
   "outputs": [
    {
     "name": "stdout",
     "output_type": "stream",
     "text": [
      "Enter the hour:10\n",
      "Enter the minut:15\n",
      "Enter the any minut:2752\n",
      "08 : 07\n"
     ]
    }
   ],
   "source": [
    "hour_N,minut_M,minut_T = int(input(\"Enter the hour:\")),int(input('Enter the minut:')),int(input('Enter the any minut:'))\n",
    "hour = divmod(minut_T,60)\n",
    "hours = divmod(hour[0],24)\n",
    "hour_after = hour_N - (24-hours[1])\n",
    "minut_after = divmod(minut_M+hour[1],60)\n",
    "print(f'0{hour_after+minut_after[0]}',\":\",f'0{minut_after[1]}')"
   ]
  },
  {
   "cell_type": "code",
   "execution_count": 10,
   "id": "a0f07520",
   "metadata": {},
   "outputs": [
    {
     "name": "stdout",
     "output_type": "stream",
     "text": [
      "Payment amount per period:1000\n",
      "Periodic interest rate:0.05\n",
      "Number of periods:10\n",
      "12577.892535548839\n"
     ]
    }
   ],
   "source": [
    "C , r , n = float(input(\"Payment amount per period:\")),float(input(\"Periodic interest rate:\")),int(input(\"Number of periods:\"))\n",
    "future_value = C * (pow(1+r,n)-1)/r\n",
    "print(future_value)"
   ]
  },
  {
   "cell_type": "code",
   "execution_count": 11,
   "id": "eac5f39a",
   "metadata": {},
   "outputs": [
    {
     "name": "stdout",
     "output_type": "stream",
     "text": [
      "Payment amount per period:1000\n",
      "Discount rate per period:0.05\n",
      "Number of periods:10\n",
      "7721.734929184818\n"
     ]
    }
   ],
   "source": [
    "C , r , n = float(input(\"Payment amount per period:\")),float(input(\"Discount rate per period:\")),int(input(\"Number of periods:\"))\n",
    "present_value = C * (1-pow(1+r,-n))/r\n",
    "print(present_value)"
   ]
  },
  {
   "cell_type": "code",
   "execution_count": 12,
   "id": "84cbd582",
   "metadata": {},
   "outputs": [
    {
     "name": "stdout",
     "output_type": "stream",
     "text": [
      "Payment amount per period:10000\n",
      "Discount rate per period:0.05\n",
      "Number of periods:10\n",
      "10000.0\n"
     ]
    }
   ],
   "source": [
    "C , r , n = float(input(\"Payment amount per period:\")),float(input(\"Discount rate per period:\")),int(input(\"Number of periods:\"))\n",
    "present_value = C * (1-pow(1+r,-n))/r\n",
    "present_value_2 = r*present_value/(1-pow(1+r,-n))\n",
    "print(present_value_2)"
   ]
  },
  {
   "cell_type": "code",
   "execution_count": null,
   "id": "19cae2e5",
   "metadata": {},
   "outputs": [],
   "source": []
  }
 ],
 "metadata": {
  "kernelspec": {
   "display_name": "Python 3 (ipykernel)",
   "language": "python",
   "name": "python3"
  },
  "language_info": {
   "codemirror_mode": {
    "name": "ipython",
    "version": 3
   },
   "file_extension": ".py",
   "mimetype": "text/x-python",
   "name": "python",
   "nbconvert_exporter": "python",
   "pygments_lexer": "ipython3",
   "version": "3.11.5"
  }
 },
 "nbformat": 4,
 "nbformat_minor": 5
}
